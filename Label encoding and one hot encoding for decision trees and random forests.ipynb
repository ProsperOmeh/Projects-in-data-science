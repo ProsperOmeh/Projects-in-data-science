{
 "cells": [
  {
   "cell_type": "markdown",
   "metadata": {},
   "source": [
    "# Does the type of encoding matters for a decision tree and random forest provided the way they function."
   ]
  },
  {
   "cell_type": "code",
   "execution_count": 1,
   "metadata": {},
   "outputs": [],
   "source": [
    "# Determine the success of an ad campaign.\n",
    "# The dataset we have contains a total of 12 columns and 26048 observations.\n",
    "# So, based on these features and observations, we will predict if a particular ad will be successful in the future or not.\n",
    "# We will visualize the data and try to understand the type of ad campaigns which are more successsful and focus on those kind \n",
    "# of ads in the future or try to understand why particular ads are more successful than others.\n",
    "# With these kind of insights, we can also improve the unsuccessful ones."
   ]
  },
  {
   "cell_type": "code",
   "execution_count": 51,
   "metadata": {},
   "outputs": [],
   "source": [
    "#Import the libraries.\n",
    "\n",
    "import seaborn as sns\n",
    "import numpy as np # linear algebra\n",
    "import pandas as pd # data processing, CSV file I/O\n",
    "from sklearn.tree import DecisionTreeClassifier\n",
    "from sklearn.ensemble import RandomForestClassifier\n",
    "from sklearn.model_selection import GridSearchCV\n",
    "from sklearn.model_selection import train_test_split\n",
    "from sklearn import preprocessing\n",
    "from sklearn.metrics import precision_score, accuracy_score\n",
    "from sklearn.metrics import confusion_matrix\n",
    "from sklearn.metrics import classification_report \n",
    "from sklearn.metrics import auc\n",
    "from sklearn.metrics import roc_curve\n",
    "import matplotlib.pyplot as plt\n"
   ]
  },
  {
   "cell_type": "code",
   "execution_count": 53,
   "metadata": {},
   "outputs": [],
   "source": [
    "import warnings\n",
    "warnings.filterwarnings('ignore')\n",
    "%matplotlib inline"
   ]
  },
  {
   "cell_type": "code",
   "execution_count": 54,
   "metadata": {},
   "outputs": [],
   "source": [
    "from IPython.core.interactiveshell import InteractiveShell\n",
    "InteractiveShell.ast_node_Interactivity = 'all'\n"
   ]
  },
  {
   "cell_type": "code",
   "execution_count": 55,
   "metadata": {},
   "outputs": [],
   "source": [
    "#Import the data\n",
    "train=pd.read_csv('C:\\\\Users\\\\anju\\\\Desktop\\\\Data science misc\\\\datasets for practice\\\\Ad success/Train.csv')"
   ]
  },
  {
   "cell_type": "code",
   "execution_count": 56,
   "metadata": {},
   "outputs": [
    {
     "name": "stdout",
     "output_type": "stream",
     "text": [
      "total train data: (26048, 12)\n"
     ]
    }
   ],
   "source": [
    "print('total train data: ' + str(train.shape))"
   ]
  },
  {
   "cell_type": "code",
   "execution_count": 7,
   "metadata": {},
   "outputs": [],
   "source": [
    "#Data cleaning"
   ]
  },
  {
   "cell_type": "code",
   "execution_count": 8,
   "metadata": {},
   "outputs": [
    {
     "data": {
      "text/plain": [
       "id                                   0\n",
       "realtionship_status                  0\n",
       "industry                             0\n",
       "genre                                0\n",
       "targeted_sex                         0\n",
       "average_runtime(minutes_per_week)    0\n",
       "airtime                              0\n",
       "airlocation                          0\n",
       "ratings                              0\n",
       "expensive                            0\n",
       "money_back_guarantee                 0\n",
       "netgain                              0\n",
       "dtype: int64"
      ]
     },
     "execution_count": 8,
     "metadata": {},
     "output_type": "execute_result"
    }
   ],
   "source": [
    "train.isnull().sum()    # No missing values found."
   ]
  },
  {
   "cell_type": "code",
   "execution_count": 9,
   "metadata": {},
   "outputs": [
    {
     "name": "stdout",
     "output_type": "stream",
     "text": [
      "id : 26048\n",
      "realtionship_status : 7\n",
      "industry : 6\n",
      "genre : 5\n",
      "targeted_sex : 2\n",
      "average_runtime(minutes_per_week) : 91\n",
      "airtime : 3\n",
      "airlocation : 42\n",
      "ratings : 125\n",
      "expensive : 3\n",
      "money_back_guarantee : 2\n",
      "netgain : 2\n"
     ]
    }
   ],
   "source": [
    "for i in train.columns:\n",
    "    print( i , ':', train[i].nunique())"
   ]
  },
  {
   "cell_type": "code",
   "execution_count": 57,
   "metadata": {
    "scrolled": true
   },
   "outputs": [
    {
     "data": {
      "text/html": [
       "<div>\n",
       "<style scoped>\n",
       "    .dataframe tbody tr th:only-of-type {\n",
       "        vertical-align: middle;\n",
       "    }\n",
       "\n",
       "    .dataframe tbody tr th {\n",
       "        vertical-align: top;\n",
       "    }\n",
       "\n",
       "    .dataframe thead th {\n",
       "        text-align: right;\n",
       "    }\n",
       "</style>\n",
       "<table border=\"1\" class=\"dataframe\">\n",
       "  <thead>\n",
       "    <tr style=\"text-align: right;\">\n",
       "      <th></th>\n",
       "      <th>realtionship_status</th>\n",
       "      <th>industry</th>\n",
       "      <th>genre</th>\n",
       "      <th>targeted_sex</th>\n",
       "      <th>average_runtime(minutes_per_week)</th>\n",
       "      <th>airtime</th>\n",
       "      <th>airlocation</th>\n",
       "      <th>ratings</th>\n",
       "      <th>expensive</th>\n",
       "      <th>money_back_guarantee</th>\n",
       "      <th>netgain</th>\n",
       "    </tr>\n",
       "  </thead>\n",
       "  <tbody>\n",
       "    <tr>\n",
       "      <th>0</th>\n",
       "      <td>Married-spouse-absent</td>\n",
       "      <td>Auto</td>\n",
       "      <td>Comedy</td>\n",
       "      <td>Male</td>\n",
       "      <td>45</td>\n",
       "      <td>Primetime</td>\n",
       "      <td>United-States</td>\n",
       "      <td>0.027465</td>\n",
       "      <td>High</td>\n",
       "      <td>No</td>\n",
       "      <td>False</td>\n",
       "    </tr>\n",
       "    <tr>\n",
       "      <th>1</th>\n",
       "      <td>Married-civ-spouse</td>\n",
       "      <td>Pharma</td>\n",
       "      <td>Comedy</td>\n",
       "      <td>Male</td>\n",
       "      <td>45</td>\n",
       "      <td>Primetime</td>\n",
       "      <td>United-States</td>\n",
       "      <td>0.027465</td>\n",
       "      <td>Low</td>\n",
       "      <td>No</td>\n",
       "      <td>False</td>\n",
       "    </tr>\n",
       "    <tr>\n",
       "      <th>2</th>\n",
       "      <td>Divorced</td>\n",
       "      <td>Entertainment</td>\n",
       "      <td>Comedy</td>\n",
       "      <td>Female</td>\n",
       "      <td>45</td>\n",
       "      <td>Primetime</td>\n",
       "      <td>United-States</td>\n",
       "      <td>0.027465</td>\n",
       "      <td>High</td>\n",
       "      <td>Yes</td>\n",
       "      <td>False</td>\n",
       "    </tr>\n",
       "    <tr>\n",
       "      <th>3</th>\n",
       "      <td>Separated</td>\n",
       "      <td>Political</td>\n",
       "      <td>Infomercial</td>\n",
       "      <td>Female</td>\n",
       "      <td>40</td>\n",
       "      <td>Primetime</td>\n",
       "      <td>United-States</td>\n",
       "      <td>0.027465</td>\n",
       "      <td>Low</td>\n",
       "      <td>No</td>\n",
       "      <td>False</td>\n",
       "    </tr>\n",
       "    <tr>\n",
       "      <th>4</th>\n",
       "      <td>Married-civ-spouse</td>\n",
       "      <td>Pharma</td>\n",
       "      <td>Comedy</td>\n",
       "      <td>Male</td>\n",
       "      <td>48</td>\n",
       "      <td>Primetime</td>\n",
       "      <td>United-States</td>\n",
       "      <td>0.027465</td>\n",
       "      <td>High</td>\n",
       "      <td>No</td>\n",
       "      <td>True</td>\n",
       "    </tr>\n",
       "  </tbody>\n",
       "</table>\n",
       "</div>"
      ],
      "text/plain": [
       "     realtionship_status       industry        genre targeted_sex  \\\n",
       "0  Married-spouse-absent           Auto       Comedy         Male   \n",
       "1     Married-civ-spouse         Pharma       Comedy         Male   \n",
       "2               Divorced  Entertainment       Comedy       Female   \n",
       "3              Separated      Political  Infomercial       Female   \n",
       "4     Married-civ-spouse         Pharma       Comedy         Male   \n",
       "\n",
       "   average_runtime(minutes_per_week)    airtime    airlocation   ratings  \\\n",
       "0                                 45  Primetime  United-States  0.027465   \n",
       "1                                 45  Primetime  United-States  0.027465   \n",
       "2                                 45  Primetime  United-States  0.027465   \n",
       "3                                 40  Primetime  United-States  0.027465   \n",
       "4                                 48  Primetime  United-States  0.027465   \n",
       "\n",
       "  expensive money_back_guarantee  netgain  \n",
       "0      High                   No    False  \n",
       "1       Low                   No    False  \n",
       "2      High                  Yes    False  \n",
       "3       Low                   No    False  \n",
       "4      High                   No     True  "
      ]
     },
     "execution_count": 57,
     "metadata": {},
     "output_type": "execute_result"
    }
   ],
   "source": [
    "#dropping id column as its of no use\n",
    "train = train.drop(['id'],axis=1)\n",
    "train.head()\n"
   ]
  },
  {
   "cell_type": "markdown",
   "metadata": {},
   "source": [
    "# Lets apply Label encoding at first to all the categorical columns."
   ]
  },
  {
   "cell_type": "code",
   "execution_count": 17,
   "metadata": {},
   "outputs": [
    {
     "data": {
      "text/plain": [
       "Index(['realtionship_status', 'industry', 'genre', 'targeted_sex',\n",
       "       'average_runtime(minutes_per_week)', 'airtime', 'airlocation',\n",
       "       'ratings', 'expensive', 'money_back_guarantee', 'netgain'],\n",
       "      dtype='object')"
      ]
     },
     "execution_count": 17,
     "metadata": {},
     "output_type": "execute_result"
    }
   ],
   "source": [
    "train.columns"
   ]
  },
  {
   "cell_type": "code",
   "execution_count": 22,
   "metadata": {},
   "outputs": [
    {
     "name": "stdout",
     "output_type": "stream",
     "text": [
      "Completed Label encoding on realtionship_status\n",
      "Completed Label encoding on industry\n",
      "Completed Label encoding on genre\n",
      "Completed Label encoding on targeted_sex\n",
      "Completed Label encoding on airtime\n",
      "Completed Label encoding on airlocation\n",
      "Completed Label encoding on expensive\n",
      "Completed Label encoding on money_back_guarantee\n"
     ]
    }
   ],
   "source": [
    "#Using label encoder to convert the object data types into numeric data type\n",
    "\n",
    "for col in ['realtionship_status', 'industry', 'genre', 'targeted_sex',\n",
    "       'average_runtime(minutes_per_week)', 'airtime', 'airlocation',\n",
    "       'ratings', 'expensive', 'money_back_guarantee', 'netgain']:\n",
    "    if (train[col].dtype == 'object'):\n",
    "        le = preprocessing.LabelEncoder()\n",
    "        le = le.fit(train[col])\n",
    "        train[col] = le.transform(train[col])\n",
    "        print('Completed Label encoding on',col)\n"
   ]
  },
  {
   "cell_type": "code",
   "execution_count": 24,
   "metadata": {},
   "outputs": [],
   "source": [
    "# Since my target variable 'netgain' is boolean , I will use label encoding for this as well.\n",
    "\n",
    "from sklearn import preprocessing\n",
    "le = preprocessing.LabelEncoder()\n",
    "le.fit(train['netgain'])\n",
    "train['netgain'] = le.transform(train['netgain'])\n"
   ]
  },
  {
   "cell_type": "code",
   "execution_count": 25,
   "metadata": {},
   "outputs": [
    {
     "data": {
      "text/plain": [
       "(26048, 11)"
      ]
     },
     "execution_count": 25,
     "metadata": {},
     "output_type": "execute_result"
    }
   ],
   "source": [
    "train.shape"
   ]
  },
  {
   "cell_type": "code",
   "execution_count": 26,
   "metadata": {},
   "outputs": [
    {
     "data": {
      "text/html": [
       "<div>\n",
       "<style scoped>\n",
       "    .dataframe tbody tr th:only-of-type {\n",
       "        vertical-align: middle;\n",
       "    }\n",
       "\n",
       "    .dataframe tbody tr th {\n",
       "        vertical-align: top;\n",
       "    }\n",
       "\n",
       "    .dataframe thead th {\n",
       "        text-align: right;\n",
       "    }\n",
       "</style>\n",
       "<table border=\"1\" class=\"dataframe\">\n",
       "  <thead>\n",
       "    <tr style=\"text-align: right;\">\n",
       "      <th></th>\n",
       "      <th>realtionship_status</th>\n",
       "      <th>industry</th>\n",
       "      <th>genre</th>\n",
       "      <th>targeted_sex</th>\n",
       "      <th>average_runtime(minutes_per_week)</th>\n",
       "      <th>airtime</th>\n",
       "      <th>airlocation</th>\n",
       "      <th>ratings</th>\n",
       "      <th>expensive</th>\n",
       "      <th>money_back_guarantee</th>\n",
       "      <th>netgain</th>\n",
       "    </tr>\n",
       "  </thead>\n",
       "  <tbody>\n",
       "    <tr>\n",
       "      <th>0</th>\n",
       "      <td>3</td>\n",
       "      <td>0</td>\n",
       "      <td>0</td>\n",
       "      <td>1</td>\n",
       "      <td>45</td>\n",
       "      <td>2</td>\n",
       "      <td>39</td>\n",
       "      <td>0.027465</td>\n",
       "      <td>0</td>\n",
       "      <td>0</td>\n",
       "      <td>0</td>\n",
       "    </tr>\n",
       "    <tr>\n",
       "      <th>1</th>\n",
       "      <td>2</td>\n",
       "      <td>4</td>\n",
       "      <td>0</td>\n",
       "      <td>1</td>\n",
       "      <td>45</td>\n",
       "      <td>2</td>\n",
       "      <td>39</td>\n",
       "      <td>0.027465</td>\n",
       "      <td>1</td>\n",
       "      <td>0</td>\n",
       "      <td>0</td>\n",
       "    </tr>\n",
       "    <tr>\n",
       "      <th>2</th>\n",
       "      <td>0</td>\n",
       "      <td>2</td>\n",
       "      <td>0</td>\n",
       "      <td>0</td>\n",
       "      <td>45</td>\n",
       "      <td>2</td>\n",
       "      <td>39</td>\n",
       "      <td>0.027465</td>\n",
       "      <td>0</td>\n",
       "      <td>1</td>\n",
       "      <td>0</td>\n",
       "    </tr>\n",
       "    <tr>\n",
       "      <th>3</th>\n",
       "      <td>5</td>\n",
       "      <td>5</td>\n",
       "      <td>3</td>\n",
       "      <td>0</td>\n",
       "      <td>40</td>\n",
       "      <td>2</td>\n",
       "      <td>39</td>\n",
       "      <td>0.027465</td>\n",
       "      <td>1</td>\n",
       "      <td>0</td>\n",
       "      <td>0</td>\n",
       "    </tr>\n",
       "    <tr>\n",
       "      <th>4</th>\n",
       "      <td>2</td>\n",
       "      <td>4</td>\n",
       "      <td>0</td>\n",
       "      <td>1</td>\n",
       "      <td>48</td>\n",
       "      <td>2</td>\n",
       "      <td>39</td>\n",
       "      <td>0.027465</td>\n",
       "      <td>0</td>\n",
       "      <td>0</td>\n",
       "      <td>1</td>\n",
       "    </tr>\n",
       "  </tbody>\n",
       "</table>\n",
       "</div>"
      ],
      "text/plain": [
       "   realtionship_status  industry  genre  targeted_sex  \\\n",
       "0                    3         0      0             1   \n",
       "1                    2         4      0             1   \n",
       "2                    0         2      0             0   \n",
       "3                    5         5      3             0   \n",
       "4                    2         4      0             1   \n",
       "\n",
       "   average_runtime(minutes_per_week)  airtime  airlocation   ratings  \\\n",
       "0                                 45        2           39  0.027465   \n",
       "1                                 45        2           39  0.027465   \n",
       "2                                 45        2           39  0.027465   \n",
       "3                                 40        2           39  0.027465   \n",
       "4                                 48        2           39  0.027465   \n",
       "\n",
       "   expensive  money_back_guarantee  netgain  \n",
       "0          0                     0        0  \n",
       "1          1                     0        0  \n",
       "2          0                     1        0  \n",
       "3          1                     0        0  \n",
       "4          0                     0        1  "
      ]
     },
     "execution_count": 26,
     "metadata": {},
     "output_type": "execute_result"
    }
   ],
   "source": [
    "train.head()"
   ]
  },
  {
   "cell_type": "code",
   "execution_count": 27,
   "metadata": {},
   "outputs": [],
   "source": [
    "# Splitting the independent and target variables.\n",
    "\n",
    "train_ind = train.drop(['netgain'],axis=1)\n",
    "target = train['netgain']\n"
   ]
  },
  {
   "cell_type": "code",
   "execution_count": 28,
   "metadata": {},
   "outputs": [
    {
     "name": "stdout",
     "output_type": "stream",
     "text": [
      "Train independent dataset shape: (26048, 10) and Train target dataset shape: (26048,)\n"
     ]
    }
   ],
   "source": [
    "print( 'Train independent dataset shape:', train_ind.shape , 'and', 'Train target dataset shape:', target.shape)\n"
   ]
  },
  {
   "cell_type": "code",
   "execution_count": 42,
   "metadata": {},
   "outputs": [
    {
     "name": "stdout",
     "output_type": "stream",
     "text": [
      "X train size:  (18233, 10)\n",
      "y train size:  (18233,)\n",
      "X test size:  (7815, 10)\n",
      "y test size:  (7815,)\n"
     ]
    }
   ],
   "source": [
    "#Splitting the dataset to train and test.\n",
    "\n",
    "from sklearn.model_selection import train_test_split\n",
    "\n",
    "x_train, x_test, y_train, y_test = train_test_split(train_ind, target, test_size=0.30, random_state=42)\n",
    "\n",
    "print('X train size: ', x_train.shape)\n",
    "print('y train size: ', y_train.shape)\n",
    "print('X test size: ', x_test.shape)\n",
    "print('y test size: ', y_test.shape)"
   ]
  },
  {
   "cell_type": "markdown",
   "metadata": {},
   "source": [
    "# Decision tree on label encoded data."
   ]
  },
  {
   "cell_type": "code",
   "execution_count": 72,
   "metadata": {},
   "outputs": [],
   "source": [
    "#decision tree without hyper parameter tuning"
   ]
  },
  {
   "cell_type": "code",
   "execution_count": 43,
   "metadata": {},
   "outputs": [
    {
     "data": {
      "text/plain": [
       "DecisionTreeClassifier(ccp_alpha=0.0, class_weight=None, criterion='gini',\n",
       "                       max_depth=None, max_features=None, max_leaf_nodes=None,\n",
       "                       min_impurity_decrease=0.0, min_impurity_split=None,\n",
       "                       min_samples_leaf=1, min_samples_split=2,\n",
       "                       min_weight_fraction_leaf=0.0, presort='deprecated',\n",
       "                       random_state=1, splitter='best')"
      ]
     },
     "execution_count": 43,
     "metadata": {},
     "output_type": "execute_result"
    }
   ],
   "source": [
    "from sklearn.tree import DecisionTreeClassifier\n",
    "\n",
    "dtc = DecisionTreeClassifier(random_state=1)\n",
    "dtc.fit(x_train,y_train)\n"
   ]
  },
  {
   "cell_type": "code",
   "execution_count": 44,
   "metadata": {},
   "outputs": [
    {
     "name": "stdout",
     "output_type": "stream",
     "text": [
      "The precision score of decision tree on TRAIN is :  78.26 %\n",
      "The accuracy score of decision tree on TRAIN is :  86.46 %\n",
      "The precision score of decision tree on TEST is :  57.92 %\n",
      "The accuracy score of decision tree on TEST is :  79.42 %\n"
     ]
    },
    {
     "data": {
      "image/png": "[encoded data removed]",
      "text/plain": [
       "<Figure size 576x432 with 1 Axes>"
      ]
     },
     "metadata": {
      "needs_background": "light"
     },
     "output_type": "display_data"
    },
    {
     "name": "stdout",
     "output_type": "stream",
     "text": [
      "DT AUC is:  78.17 %\n"
     ]
    }
   ],
   "source": [
    "# Predictions and Evaluation metrics on train set.\n",
    "\n",
    "from sklearn.metrics import precision_score, accuracy_score\n",
    "x_actual, x_pred = y_train, dtc.predict(x_train)\n",
    "precision_score_DT_train = precision_score(x_actual, x_pred)\n",
    "accuracy_score_DT_train = accuracy_score(x_actual, x_pred)\n",
    "print('The precision score of decision tree on TRAIN is : ',round(precision_score_DT_train * 100,2), '%')\n",
    "print('The accuracy score of decision tree on TRAIN is : ',round(accuracy_score_DT_train * 100,2), '%')\n",
    "\n",
    "# Predictions and Evaluation metrics on test set.\n",
    "\n",
    "from sklearn.metrics import precision_score, accuracy_score\n",
    "y_actual, y_pred = y_test, dtc.predict(x_test)\n",
    "precision_score_DT_test =  precision_score(y_actual, y_pred)\n",
    "accuracy_score_DT_test = accuracy_score(y_actual, y_pred)\n",
    "print('The precision score of decision tree on TEST is : ',round(precision_score_DT_test * 100,2), '%')\n",
    "print('The accuracy score of decision tree on TEST is : ',round(accuracy_score_DT_test * 100,2), '%')\n",
    "\n",
    "#Now let's plot the ROC curve and calculate AUC on the test set\n",
    "from sklearn.metrics import auc\n",
    "from sklearn.metrics import roc_curve\n",
    "adsu = dtc.predict_proba(x_test)[:,1]\n",
    "plt.subplots(figsize=(8,6))\n",
    "fpr, tpr, thresholds = roc_curve(y_test, adsu)\n",
    "plt.plot(fpr, tpr)\n",
    "x = np.linspace(0,1,num=50)\n",
    "plt.plot(x,x,color='lightgrey',linestyle='--',marker='',lw=2,label='random guess')\n",
    "plt.legend(fontsize = 14)\n",
    "plt.xlabel('False positive rate', fontsize = 18)\n",
    "plt.ylabel('True positive rate', fontsize = 18)\n",
    "plt.xlim(0,1)\n",
    "plt.ylim(0,1)\n",
    "plt.show()\n",
    "\n",
    "AUC_DT = auc(fpr,tpr)\n",
    "print('DT AUC is: ', round(AUC_DT * 100,2), '%')\n"
   ]
  },
  {
   "cell_type": "code",
   "execution_count": 45,
   "metadata": {},
   "outputs": [
    {
     "data": {
      "text/plain": [
       "GridSearchCV(cv=5, error_score=nan,\n",
       "             estimator=DecisionTreeClassifier(ccp_alpha=0.0, class_weight=None,\n",
       "                                              criterion='gini', max_depth=None,\n",
       "                                              max_features=None,\n",
       "                                              max_leaf_nodes=None,\n",
       "                                              min_impurity_decrease=0.0,\n",
       "                                              min_impurity_split=None,\n",
       "                                              min_samples_leaf=1,\n",
       "                                              min_samples_split=2,\n",
       "                                              min_weight_fraction_leaf=0.0,\n",
       "                                              presort='deprecated',\n",
       "                                              random_state=None,\n",
       "                                              splitter='best'),\n",
       "             iid='deprecated', n_jobs=None,\n",
       "             param_grid={'max_depth': [2, 3, 4, 5, 6, 7],\n",
       "                         'max_features': [0.5, 0.6, 0.7, 0.8, 0.9, 1.0],\n",
       "                         'min_samples_leaf': [1, 10, 100],\n",
       "                         'random_state': [14]},\n",
       "             pre_dispatch='2*n_jobs', refit=True, return_train_score=False,\n",
       "             scoring='roc_auc', verbose=0)"
      ]
     },
     "execution_count": 45,
     "metadata": {},
     "output_type": "execute_result"
    }
   ],
   "source": [
    "#decision tree with hyper parameter tuning.\n",
    "# Decision tree classifier with grid seacrh CV and model evaluation using accuracy score, precision score and AUC/ROC curve.\n",
    "\n",
    "from sklearn.tree import DecisionTreeClassifier\n",
    "from sklearn.model_selection import GridSearchCV\n",
    "\n",
    "parameters = {'max_features': [0.5,0.6,0.7,0.8,0.9,1.0], 'max_depth': [2,3,4,5,6,7],'min_samples_leaf':[1,10,100],'random_state':[14]} \n",
    "\n",
    "clf = GridSearchCV(DecisionTreeClassifier(), parameters, cv=5, scoring='roc_auc')\n",
    "clf.fit(x_train, y_train)"
   ]
  },
  {
   "cell_type": "code",
   "execution_count": 46,
   "metadata": {},
   "outputs": [
    {
     "name": "stdout",
     "output_type": "stream",
     "text": [
      "The best parameters are:  {'max_depth': 7, 'max_features': 0.9, 'min_samples_leaf': 10, 'random_state': 14}\n",
      "best mean cross-validated score (auc) :  0.8604281857142032\n"
     ]
    }
   ],
   "source": [
    "print('The best parameters are: ', clf.best_params_)\n",
    "print('best mean cross-validated score (auc) : ', clf.best_score_)"
   ]
  },
  {
   "cell_type": "code",
   "execution_count": 47,
   "metadata": {},
   "outputs": [
    {
     "name": "stdout",
     "output_type": "stream",
     "text": [
      "The precision score of tuned decision tree on TRAIN is :  66.54 %\n",
      "The accuracy score of tuned decision tree on TRAIN is :  81.74 %\n",
      "The precision score of tuned decision tree on TEST is :  64.6 %\n",
      "The accuracy score of tuned decision tree on TEST is :  81.33 %\n"
     ]
    },
    {
     "data": {
      "image/png": "[encoded data removed]",
      "text/plain": [
       "<Figure size 576x432 with 1 Axes>"
      ]
     },
     "metadata": {
      "needs_background": "light"
     },
     "output_type": "display_data"
    },
    {
     "name": "stdout",
     "output_type": "stream",
     "text": [
      "TNDT AUC is:  85.57 %\n"
     ]
    }
   ],
   "source": [
    "# Predictions and Evaluation metrics on train set.\n",
    "\n",
    "from sklearn.metrics import precision_score, accuracy_score\n",
    "x_actual, x_pred = y_train, clf.predict(x_train)\n",
    "precision_score_TNDT_train = precision_score(x_actual, x_pred)\n",
    "accuracy_score_TNDT_train = accuracy_score(x_actual, x_pred)\n",
    "print('The precision score of tuned decision tree on TRAIN is : ',round(precision_score_TNDT_train * 100,2), '%')\n",
    "print('The accuracy score of tuned decision tree on TRAIN is : ',round(accuracy_score_TNDT_train * 100,2), '%')\n",
    "\n",
    "# Predictions and Evaluation metrics on test set.\n",
    "\n",
    "from sklearn.metrics import precision_score, accuracy_score\n",
    "y_actual, y_pred = y_test, clf.predict(x_test)\n",
    "precision_score_TNDT_test =  precision_score(y_actual, y_pred)\n",
    "accuracy_score_TNDT_test = accuracy_score(y_actual, y_pred)\n",
    "print('The precision score of tuned decision tree on TEST is : ',round(precision_score_TNDT_test * 100,2), '%')\n",
    "print('The accuracy score of tuned decision tree on TEST is : ',round(accuracy_score_TNDT_test * 100,2), '%')\n",
    "\n",
    "#Now let's plot the ROC curve and calculate AUC on the test set\n",
    "from sklearn.metrics import auc\n",
    "from sklearn.metrics import roc_curve\n",
    "adsu = clf.predict_proba(x_test)[:,1]\n",
    "plt.subplots(figsize=(8,6))\n",
    "fpr, tpr, thresholds = roc_curve(y_test, adsu)\n",
    "plt.plot(fpr, tpr)\n",
    "x = np.linspace(0,1,num=50)\n",
    "plt.plot(x,x,color='lightgrey',linestyle='--',marker='',lw=2,label='random guess')\n",
    "plt.legend(fontsize = 14)\n",
    "plt.xlabel('False positive rate', fontsize = 18)\n",
    "plt.ylabel('True positive rate', fontsize = 18)\n",
    "plt.xlim(0,1)\n",
    "plt.ylim(0,1)\n",
    "plt.show()\n",
    "\n",
    "AUC_DT = auc(fpr,tpr)\n",
    "print('TNDT AUC is: ', round(AUC_DT * 100,2), '%')\n"
   ]
  },
  {
   "cell_type": "code",
   "execution_count": 48,
   "metadata": {},
   "outputs": [
    {
     "data": {
      "text/plain": [
       "GridSearchCV(cv=5, error_score=nan,\n",
       "             estimator=RandomForestClassifier(bootstrap=True, ccp_alpha=0.0,\n",
       "                                              class_weight=None,\n",
       "                                              criterion='gini', max_depth=None,\n",
       "                                              max_features='auto',\n",
       "                                              max_leaf_nodes=None,\n",
       "                                              max_samples=None,\n",
       "                                              min_impurity_decrease=0.0,\n",
       "                                              min_impurity_split=None,\n",
       "                                              min_samples_leaf=1,\n",
       "                                              min_samples_split=2,\n",
       "                                              min_weight_fraction_leaf=0.0,\n",
       "                                              n_estimators=100, n_jobs=None,\n",
       "                                              oob_score=False,\n",
       "                                              random_state=None, verbose=0,\n",
       "                                              warm_start=False),\n",
       "             iid='deprecated', n_jobs=None,\n",
       "             param_grid={'max_depth': [3, 5, 7],\n",
       "                         'max_features': [0.5, 0.7, 0.9],\n",
       "                         'min_samples_leaf': [1, 10], 'n_estimators': [700],\n",
       "                         'n_jobs': [-1], 'random_state': [14]},\n",
       "             pre_dispatch='2*n_jobs', refit=True, return_train_score=False,\n",
       "             scoring='roc_auc', verbose=0)"
      ]
     },
     "execution_count": 48,
     "metadata": {},
     "output_type": "execute_result"
    }
   ],
   "source": [
    "#random forest\n",
    "from sklearn.ensemble import RandomForestClassifier\n",
    "parameters = {'n_estimators':[700],'n_jobs':[-1], 'max_features': [0.5,0.7,0.9], 'max_depth': [3,5,7],'min_samples_leaf':[1,10],'random_state':[14]} \n",
    "\n",
    "clf1 = GridSearchCV(RandomForestClassifier(), parameters, cv=5, scoring='roc_auc')\n",
    "clf1.fit(x_train, y_train)"
   ]
  },
  {
   "cell_type": "code",
   "execution_count": 49,
   "metadata": {},
   "outputs": [
    {
     "name": "stdout",
     "output_type": "stream",
     "text": [
      "The best parameters are:  {'max_depth': 7, 'max_features': 0.5, 'min_samples_leaf': 1, 'n_estimators': 700, 'n_jobs': -1, 'random_state': 14}\n",
      "best mean cross-validated score (auc) :  0.8661046677150631\n"
     ]
    }
   ],
   "source": [
    "print('The best parameters are: ', clf1.best_params_)\n",
    "print('best mean cross-validated score (auc) : ', clf1.best_score_)"
   ]
  },
  {
   "cell_type": "code",
   "execution_count": 50,
   "metadata": {},
   "outputs": [
    {
     "name": "stdout",
     "output_type": "stream",
     "text": [
      "The precision score of random forest on TRAIN is :  70.1 %\n",
      "The accuracy score of random forest on TRAIN is :  82.26 %\n",
      "The precision score of random forest on TEST is :  67.44 %\n",
      "The accuracy score of random forest on TEST is :  81.63 %\n"
     ]
    },
    {
     "data": {
      "image/png": "[encoded data removed]",
      "text/plain": [
       "<Figure size 576x432 with 1 Axes>"
      ]
     },
     "metadata": {
      "needs_background": "light"
     },
     "output_type": "display_data"
    },
    {
     "name": "stdout",
     "output_type": "stream",
     "text": [
      "RF AUC is:  86.36 %\n"
     ]
    }
   ],
   "source": [
    "# Predictions and Evaluation metrics on train set.\n",
    "\n",
    "from sklearn.metrics import precision_score, accuracy_score\n",
    "x_actual, x_pred = y_train, clf1.predict(x_train)\n",
    "precision_score_RF_train = precision_score(x_actual, x_pred)\n",
    "accuracy_score_RF_train = accuracy_score(x_actual, x_pred)\n",
    "print('The precision score of random forest on TRAIN is : ',round(precision_score_RF_train * 100,2), '%')\n",
    "print('The accuracy score of random forest on TRAIN is : ',round(accuracy_score_RF_train * 100,2), '%')\n",
    "\n",
    "# Predictions and Evaluation metrics on test set.\n",
    "\n",
    "from sklearn.metrics import precision_score, accuracy_score\n",
    "y_actual, y_pred = y_test, clf1.predict(x_test)\n",
    "precision_score_RF_test =  precision_score(y_actual, y_pred)\n",
    "accuracy_score_RF_test = accuracy_score(y_actual, y_pred)\n",
    "print('The precision score of random forest on TEST is : ',round(precision_score_RF_test * 100,2), '%')\n",
    "print('The accuracy score of random forest on TEST is : ',round(accuracy_score_RF_test * 100,2), '%')\n",
    "\n",
    "#Now let's plot the ROC curve and calculate AUC on the test set\n",
    "\n",
    "from sklearn.metrics import auc\n",
    "from sklearn.metrics import roc_curve\n",
    "adsu = clf1.predict_proba(x_test)[:,1]\n",
    "plt.subplots(figsize=(8,6))\n",
    "fpr, tpr, thresholds = roc_curve(y_test, adsu)\n",
    "plt.plot(fpr, tpr)\n",
    "x = np.linspace(0,1,num=50)\n",
    "plt.plot(x,x,color='lightgrey',linestyle='--',marker='',lw=2,label='random guess')\n",
    "plt.legend(fontsize = 14)\n",
    "plt.xlabel('False positive rate', fontsize = 18)\n",
    "plt.ylabel('True positive rate', fontsize = 18)\n",
    "plt.xlim(0,1)\n",
    "plt.ylim(0,1)\n",
    "plt.show()\n",
    "\n",
    "AUC_RF = auc(fpr,tpr)\n",
    "print('RF AUC is: ', round(AUC_RF * 100,2), '%')\n"
   ]
  },
  {
   "cell_type": "markdown",
   "metadata": {},
   "source": [
    "# Lets apply one hot encoding now to all the categorical columns."
   ]
  },
  {
   "cell_type": "code",
   "execution_count": 58,
   "metadata": {},
   "outputs": [],
   "source": [
    "# My dataset has 8 categorical columns which we need to encode. Here I am using one hot encoding.\n",
    "\n",
    "train_encode = pd.get_dummies(train)"
   ]
  },
  {
   "cell_type": "code",
   "execution_count": 59,
   "metadata": {},
   "outputs": [
    {
     "data": {
      "text/plain": [
       "(26048, 73)"
      ]
     },
     "execution_count": 59,
     "metadata": {},
     "output_type": "execute_result"
    }
   ],
   "source": [
    "train_encode.shape"
   ]
  },
  {
   "cell_type": "code",
   "execution_count": null,
   "metadata": {},
   "outputs": [],
   "source": [
    "# converting target variable 'netgain'  with boolean data type to 0 and 1."
   ]
  },
  {
   "cell_type": "code",
   "execution_count": 67,
   "metadata": {},
   "outputs": [],
   "source": [
    "train_encode['netgain'] = train_encode['netgain'].replace({True: 1, False: 0})"
   ]
  },
  {
   "cell_type": "code",
   "execution_count": 68,
   "metadata": {},
   "outputs": [
    {
     "data": {
      "text/html": [
       "<div>\n",
       "<style scoped>\n",
       "    .dataframe tbody tr th:only-of-type {\n",
       "        vertical-align: middle;\n",
       "    }\n",
       "\n",
       "    .dataframe tbody tr th {\n",
       "        vertical-align: top;\n",
       "    }\n",
       "\n",
       "    .dataframe thead th {\n",
       "        text-align: right;\n",
       "    }\n",
       "</style>\n",
       "<table border=\"1\" class=\"dataframe\">\n",
       "  <thead>\n",
       "    <tr style=\"text-align: right;\">\n",
       "      <th></th>\n",
       "      <th>average_runtime(minutes_per_week)</th>\n",
       "      <th>ratings</th>\n",
       "      <th>netgain</th>\n",
       "      <th>realtionship_status_Divorced</th>\n",
       "      <th>realtionship_status_Married-AF-spouse</th>\n",
       "      <th>realtionship_status_Married-civ-spouse</th>\n",
       "      <th>realtionship_status_Married-spouse-absent</th>\n",
       "      <th>realtionship_status_Never-married</th>\n",
       "      <th>realtionship_status_Separated</th>\n",
       "      <th>realtionship_status_Widowed</th>\n",
       "      <th>...</th>\n",
       "      <th>airlocation_Thailand</th>\n",
       "      <th>airlocation_Trinadad&amp;Tobago</th>\n",
       "      <th>airlocation_United-States</th>\n",
       "      <th>airlocation_Vietnam</th>\n",
       "      <th>airlocation_Yugoslavia</th>\n",
       "      <th>expensive_High</th>\n",
       "      <th>expensive_Low</th>\n",
       "      <th>expensive_Medium</th>\n",
       "      <th>money_back_guarantee_No</th>\n",
       "      <th>money_back_guarantee_Yes</th>\n",
       "    </tr>\n",
       "  </thead>\n",
       "  <tbody>\n",
       "    <tr>\n",
       "      <th>0</th>\n",
       "      <td>45</td>\n",
       "      <td>0.027465</td>\n",
       "      <td>0</td>\n",
       "      <td>0</td>\n",
       "      <td>0</td>\n",
       "      <td>0</td>\n",
       "      <td>1</td>\n",
       "      <td>0</td>\n",
       "      <td>0</td>\n",
       "      <td>0</td>\n",
       "      <td>...</td>\n",
       "      <td>0</td>\n",
       "      <td>0</td>\n",
       "      <td>1</td>\n",
       "      <td>0</td>\n",
       "      <td>0</td>\n",
       "      <td>1</td>\n",
       "      <td>0</td>\n",
       "      <td>0</td>\n",
       "      <td>1</td>\n",
       "      <td>0</td>\n",
       "    </tr>\n",
       "    <tr>\n",
       "      <th>1</th>\n",
       "      <td>45</td>\n",
       "      <td>0.027465</td>\n",
       "      <td>0</td>\n",
       "      <td>0</td>\n",
       "      <td>0</td>\n",
       "      <td>1</td>\n",
       "      <td>0</td>\n",
       "      <td>0</td>\n",
       "      <td>0</td>\n",
       "      <td>0</td>\n",
       "      <td>...</td>\n",
       "      <td>0</td>\n",
       "      <td>0</td>\n",
       "      <td>1</td>\n",
       "      <td>0</td>\n",
       "      <td>0</td>\n",
       "      <td>0</td>\n",
       "      <td>1</td>\n",
       "      <td>0</td>\n",
       "      <td>1</td>\n",
       "      <td>0</td>\n",
       "    </tr>\n",
       "    <tr>\n",
       "      <th>2</th>\n",
       "      <td>45</td>\n",
       "      <td>0.027465</td>\n",
       "      <td>0</td>\n",
       "      <td>1</td>\n",
       "      <td>0</td>\n",
       "      <td>0</td>\n",
       "      <td>0</td>\n",
       "      <td>0</td>\n",
       "      <td>0</td>\n",
       "      <td>0</td>\n",
       "      <td>...</td>\n",
       "      <td>0</td>\n",
       "      <td>0</td>\n",
       "      <td>1</td>\n",
       "      <td>0</td>\n",
       "      <td>0</td>\n",
       "      <td>1</td>\n",
       "      <td>0</td>\n",
       "      <td>0</td>\n",
       "      <td>0</td>\n",
       "      <td>1</td>\n",
       "    </tr>\n",
       "    <tr>\n",
       "      <th>3</th>\n",
       "      <td>40</td>\n",
       "      <td>0.027465</td>\n",
       "      <td>0</td>\n",
       "      <td>0</td>\n",
       "      <td>0</td>\n",
       "      <td>0</td>\n",
       "      <td>0</td>\n",
       "      <td>0</td>\n",
       "      <td>1</td>\n",
       "      <td>0</td>\n",
       "      <td>...</td>\n",
       "      <td>0</td>\n",
       "      <td>0</td>\n",
       "      <td>1</td>\n",
       "      <td>0</td>\n",
       "      <td>0</td>\n",
       "      <td>0</td>\n",
       "      <td>1</td>\n",
       "      <td>0</td>\n",
       "      <td>1</td>\n",
       "      <td>0</td>\n",
       "    </tr>\n",
       "    <tr>\n",
       "      <th>4</th>\n",
       "      <td>48</td>\n",
       "      <td>0.027465</td>\n",
       "      <td>1</td>\n",
       "      <td>0</td>\n",
       "      <td>0</td>\n",
       "      <td>1</td>\n",
       "      <td>0</td>\n",
       "      <td>0</td>\n",
       "      <td>0</td>\n",
       "      <td>0</td>\n",
       "      <td>...</td>\n",
       "      <td>0</td>\n",
       "      <td>0</td>\n",
       "      <td>1</td>\n",
       "      <td>0</td>\n",
       "      <td>0</td>\n",
       "      <td>1</td>\n",
       "      <td>0</td>\n",
       "      <td>0</td>\n",
       "      <td>1</td>\n",
       "      <td>0</td>\n",
       "    </tr>\n",
       "  </tbody>\n",
       "</table>\n",
       "<p>5 rows × 73 columns</p>\n",
       "</div>"
      ],
      "text/plain": [
       "   average_runtime(minutes_per_week)   ratings  netgain  \\\n",
       "0                                 45  0.027465        0   \n",
       "1                                 45  0.027465        0   \n",
       "2                                 45  0.027465        0   \n",
       "3                                 40  0.027465        0   \n",
       "4                                 48  0.027465        1   \n",
       "\n",
       "   realtionship_status_Divorced  realtionship_status_Married-AF-spouse  \\\n",
       "0                             0                                      0   \n",
       "1                             0                                      0   \n",
       "2                             1                                      0   \n",
       "3                             0                                      0   \n",
       "4                             0                                      0   \n",
       "\n",
       "   realtionship_status_Married-civ-spouse  \\\n",
       "0                                       0   \n",
       "1                                       1   \n",
       "2                                       0   \n",
       "3                                       0   \n",
       "4                                       1   \n",
       "\n",
       "   realtionship_status_Married-spouse-absent  \\\n",
       "0                                          1   \n",
       "1                                          0   \n",
       "2                                          0   \n",
       "3                                          0   \n",
       "4                                          0   \n",
       "\n",
       "   realtionship_status_Never-married  realtionship_status_Separated  \\\n",
       "0                                  0                              0   \n",
       "1                                  0                              0   \n",
       "2                                  0                              0   \n",
       "3                                  0                              1   \n",
       "4                                  0                              0   \n",
       "\n",
       "   realtionship_status_Widowed  ...  airlocation_Thailand  \\\n",
       "0                            0  ...                     0   \n",
       "1                            0  ...                     0   \n",
       "2                            0  ...                     0   \n",
       "3                            0  ...                     0   \n",
       "4                            0  ...                     0   \n",
       "\n",
       "   airlocation_Trinadad&Tobago  airlocation_United-States  \\\n",
       "0                            0                          1   \n",
       "1                            0                          1   \n",
       "2                            0                          1   \n",
       "3                            0                          1   \n",
       "4                            0                          1   \n",
       "\n",
       "   airlocation_Vietnam  airlocation_Yugoslavia  expensive_High  expensive_Low  \\\n",
       "0                    0                       0               1              0   \n",
       "1                    0                       0               0              1   \n",
       "2                    0                       0               1              0   \n",
       "3                    0                       0               0              1   \n",
       "4                    0                       0               1              0   \n",
       "\n",
       "   expensive_Medium  money_back_guarantee_No  money_back_guarantee_Yes  \n",
       "0                 0                        1                         0  \n",
       "1                 0                        1                         0  \n",
       "2                 0                        0                         1  \n",
       "3                 0                        1                         0  \n",
       "4                 0                        1                         0  \n",
       "\n",
       "[5 rows x 73 columns]"
      ]
     },
     "execution_count": 68,
     "metadata": {},
     "output_type": "execute_result"
    }
   ],
   "source": [
    "train_encode.head()"
   ]
  },
  {
   "cell_type": "code",
   "execution_count": 69,
   "metadata": {},
   "outputs": [],
   "source": [
    "# Splitting the independent and target variables.\n",
    "\n",
    "train_ind_onehot = train_encode.drop(['netgain'],axis=1)\n",
    "target_onehot = train_encode['netgain']"
   ]
  },
  {
   "cell_type": "code",
   "execution_count": 70,
   "metadata": {},
   "outputs": [
    {
     "name": "stdout",
     "output_type": "stream",
     "text": [
      "Train independent dataset shape: (26048, 72) and Train target dataset shape: (26048,)\n"
     ]
    }
   ],
   "source": [
    "print( 'Train independent dataset shape:', train_ind_onehot.shape , 'and', 'Train target dataset shape:', target_onehot.shape)"
   ]
  },
  {
   "cell_type": "code",
   "execution_count": 71,
   "metadata": {},
   "outputs": [
    {
     "name": "stdout",
     "output_type": "stream",
     "text": [
      "X train size:  (18233, 72)\n",
      "y train size:  (18233,)\n",
      "X test size:  (7815, 72)\n",
      "y test size:  (7815,)\n"
     ]
    }
   ],
   "source": [
    "#Splitting the dataset to train and test.\n",
    "\n",
    "from sklearn.model_selection import train_test_split\n",
    "\n",
    "x_train, x_test, y_train, y_test = train_test_split(train_ind_onehot, target_onehot, test_size=0.30, random_state=42)\n",
    "\n",
    "print('X train size: ', x_train.shape)\n",
    "print('y train size: ', y_train.shape)\n",
    "print('X test size: ', x_test.shape)\n",
    "print('y test size: ', y_test.shape)"
   ]
  },
  {
   "cell_type": "markdown",
   "metadata": {},
   "source": [
    "# decision tree  on one hot encoded data"
   ]
  },
  {
   "cell_type": "code",
   "execution_count": 73,
   "metadata": {},
   "outputs": [
    {
     "name": "stdout",
     "output_type": "stream",
     "text": [
      "The precision score of decision tree on one hot encoded TRAIN is :  78.26 %\n",
      "The accuracy score of decision tree on one hot encoded TRAIN is :  86.46 %\n",
      "The precision score of decision tree on one hot encoded TEST is :  58.84 %\n",
      "The accuracy score of decision tree on one hot encoded TEST is :  79.74 %\n"
     ]
    },
    {
     "data": {
      "image/png": "[encoded data removed]",
      "text/plain": [
       "<Figure size 576x432 with 1 Axes>"
      ]
     },
     "metadata": {
      "needs_background": "light"
     },
     "output_type": "display_data"
    },
    {
     "name": "stdout",
     "output_type": "stream",
     "text": [
      "DT on one hot encoded test set: AUC is:  79.16 %\n"
     ]
    }
   ],
   "source": [
    "#decision tree without hyper parameter tuning\n",
    "from sklearn.tree import DecisionTreeClassifier\n",
    "\n",
    "dtc_onehot = DecisionTreeClassifier(random_state=1)\n",
    "dtc_onehot.fit(x_train,y_train)\n",
    "# Predictions and Evaluation metrics on train set.\n",
    "\n",
    "from sklearn.metrics import precision_score, accuracy_score\n",
    "x_actual, x_pred = y_train, dtc_onehot.predict(x_train)\n",
    "precision_score_dtc_onehot_train = precision_score(x_actual, x_pred)\n",
    "accuracy_score_dtc_onehot_train = accuracy_score(x_actual, x_pred)\n",
    "print('The precision score of decision tree on one hot encoded TRAIN is : ',round(precision_score_dtc_onehot_train * 100,2), '%')\n",
    "print('The accuracy score of decision tree on one hot encoded TRAIN is : ',round(accuracy_score_dtc_onehot_train * 100,2), '%')\n",
    "\n",
    "# Predictions and Evaluation metrics on test set.\n",
    "\n",
    "from sklearn.metrics import precision_score, accuracy_score\n",
    "y_actual, y_pred = y_test, dtc_onehot.predict(x_test)\n",
    "precision_score_dtc_onehot_test =  precision_score(y_actual, y_pred)\n",
    "accuracy_score_dtc_onehot_test = accuracy_score(y_actual, y_pred)\n",
    "print('The precision score of decision tree on one hot encoded TEST is : ',round(precision_score_dtc_onehot_test * 100,2), '%')\n",
    "print('The accuracy score of decision tree on one hot encoded TEST is : ',round(accuracy_score_dtc_onehot_test * 100,2), '%')\n",
    "\n",
    "#Now let's plot the ROC curve and calculate AUC on the test set\n",
    "from sklearn.metrics import auc\n",
    "from sklearn.metrics import roc_curve\n",
    "adsu = dtc_onehot.predict_proba(x_test)[:,1]\n",
    "plt.subplots(figsize=(8,6))\n",
    "fpr, tpr, thresholds = roc_curve(y_test, adsu)\n",
    "plt.plot(fpr, tpr)\n",
    "x = np.linspace(0,1,num=50)\n",
    "plt.plot(x,x,color='lightgrey',linestyle='--',marker='',lw=2,label='random guess')\n",
    "plt.legend(fontsize = 14)\n",
    "plt.xlabel('False positive rate', fontsize = 18)\n",
    "plt.ylabel('True positive rate', fontsize = 18)\n",
    "plt.xlim(0,1)\n",
    "plt.ylim(0,1)\n",
    "plt.show()\n",
    "\n",
    "AUC_DT = auc(fpr,tpr)\n",
    "print('DT on one hot encoded test set: AUC is: ', round(AUC_DT * 100,2), '%')\n",
    "\n",
    "\n"
   ]
  },
  {
   "cell_type": "code",
   "execution_count": 74,
   "metadata": {},
   "outputs": [
    {
     "name": "stdout",
     "output_type": "stream",
     "text": [
      "The best parameters are:  {'max_depth': 7, 'max_features': 1.0, 'min_samples_leaf': 10, 'random_state': 14}\n",
      "best mean cross-validated score (auc) :  0.861220995582733\n",
      "The precision score of tuned decision tree on one hot encoded TRAIN is :  68.06 %\n",
      "The accuracy score of tuned decision tree on one hot encoded TRAIN is :  82.04 %\n",
      "The precision score of tuned decision tree on one hot encoded TEST is :  65.81 %\n",
      "The accuracy score of tuned decision tree on one hot encoded TEST is :  81.46 %\n"
     ]
    },
    {
     "data": {
      "image/png": "[encoded data removed]",
      "text/plain": [
       "<Figure size 576x432 with 1 Axes>"
      ]
     },
     "metadata": {
      "needs_background": "light"
     },
     "output_type": "display_data"
    },
    {
     "name": "stdout",
     "output_type": "stream",
     "text": [
      "TNDT AUC on onehot encoded data is:  85.84 %\n"
     ]
    }
   ],
   "source": [
    "#decision tree with hyper parameter tuning.\n",
    "# Decision tree classifier with grid seacrh CV and model evaluation using accuracy score, precision score and AUC/ROC curve.\n",
    "\n",
    "from sklearn.tree import DecisionTreeClassifier\n",
    "from sklearn.model_selection import GridSearchCV\n",
    "\n",
    "parameters = {'max_features': [0.5,0.6,0.7,0.8,0.9,1.0], 'max_depth': [2,3,4,5,6,7],'min_samples_leaf':[1,10,100],'random_state':[14]} \n",
    "\n",
    "clf_onehot = GridSearchCV(DecisionTreeClassifier(), parameters, cv=5, scoring='roc_auc')\n",
    "clf_onehot.fit(x_train, y_train)\n",
    "\n",
    "print('The best parameters are: ', clf_onehot.best_params_)\n",
    "print('best mean cross-validated score (auc) : ', clf_onehot.best_score_)\n",
    "\n",
    "# Predictions and Evaluation metrics on train set.\n",
    "\n",
    "from sklearn.metrics import precision_score, accuracy_score\n",
    "x_actual, x_pred = y_train, clf_onehot.predict(x_train)\n",
    "precision_score_TNDT_onehot_train = precision_score(x_actual, x_pred)\n",
    "accuracy_score_TNDT_onehot_train = accuracy_score(x_actual, x_pred)\n",
    "print('The precision score of tuned decision tree on one hot encoded TRAIN is : ',round(precision_score_TNDT_onehot_train * 100,2), '%')\n",
    "print('The accuracy score of tuned decision tree on one hot encoded TRAIN is : ',round(accuracy_score_TNDT_onehot_train * 100,2), '%')\n",
    "\n",
    "# Predictions and Evaluation metrics on test set.\n",
    "\n",
    "from sklearn.metrics import precision_score, accuracy_score\n",
    "y_actual, y_pred = y_test, clf_onehot.predict(x_test)\n",
    "precision_score_TNDT_onehot_test =  precision_score(y_actual, y_pred)\n",
    "accuracy_score_TNDT_onehot_test = accuracy_score(y_actual, y_pred)\n",
    "print('The precision score of tuned decision tree on one hot encoded TEST is : ',round(precision_score_TNDT_onehot_test * 100,2), '%')\n",
    "print('The accuracy score of tuned decision tree on one hot encoded TEST is : ',round(accuracy_score_TNDT_onehot_test * 100,2), '%')\n",
    "\n",
    "#Now let's plot the ROC curve and calculate AUC on the test set\n",
    "from sklearn.metrics import auc\n",
    "from sklearn.metrics import roc_curve\n",
    "adsu = clf_onehot.predict_proba(x_test)[:,1]\n",
    "plt.subplots(figsize=(8,6))\n",
    "fpr, tpr, thresholds = roc_curve(y_test, adsu)\n",
    "plt.plot(fpr, tpr)\n",
    "x = np.linspace(0,1,num=50)\n",
    "plt.plot(x,x,color='lightgrey',linestyle='--',marker='',lw=2,label='random guess')\n",
    "plt.legend(fontsize = 14)\n",
    "plt.xlabel('False positive rate', fontsize = 18)\n",
    "plt.ylabel('True positive rate', fontsize = 18)\n",
    "plt.xlim(0,1)\n",
    "plt.ylim(0,1)\n",
    "plt.show()\n",
    "\n",
    "AUC_DT = auc(fpr,tpr)\n",
    "print('TNDT AUC on onehot encoded data is: ', round(AUC_DT * 100,2), '%')\n"
   ]
  },
  {
   "cell_type": "markdown",
   "metadata": {},
   "source": [
    "# Random forest on one hot encoded data "
   ]
  },
  {
   "cell_type": "code",
   "execution_count": 75,
   "metadata": {},
   "outputs": [
    {
     "name": "stdout",
     "output_type": "stream",
     "text": [
      "The best parameters are:  {'max_depth': 7, 'max_features': 0.5, 'min_samples_leaf': 1, 'n_estimators': 700, 'n_jobs': -1, 'random_state': 14}\n",
      "best mean cross-validated score (auc) :  0.867827686507708\n",
      "The precision score of random forest on one hot encoded TRAIN is :  70.34 %\n",
      "The accuracy score of random forest on one hot encoded TRAIN is :  82.41 %\n",
      "The precision score of random forest on one hot encoded TEST is :  67.32 %\n",
      "The accuracy score of random forest on one hot encoded TEST is :  81.66 %\n"
     ]
    },
    {
     "data": {
      "image/png": "[encoded data removed]",
      "text/plain": [
       "<Figure size 576x432 with 1 Axes>"
      ]
     },
     "metadata": {
      "needs_background": "light"
     },
     "output_type": "display_data"
    },
    {
     "name": "stdout",
     "output_type": "stream",
     "text": [
      "RF AUC on one hot encoded test is:  86.53 %\n"
     ]
    }
   ],
   "source": [
    "#random forest\n",
    "from sklearn.ensemble import RandomForestClassifier\n",
    "parameters = {'n_estimators':[700],'n_jobs':[-1], 'max_features': [0.5,0.7,0.9], 'max_depth': [3,5,7],'min_samples_leaf':[1,10],'random_state':[14]} \n",
    "\n",
    "clf1_onehot = GridSearchCV(RandomForestClassifier(), parameters, cv=5, scoring='roc_auc')\n",
    "clf1_onehot.fit(x_train, y_train)\n",
    "\n",
    "print('The best parameters are: ', clf1_onehot.best_params_)\n",
    "print('best mean cross-validated score (auc) : ', clf1_onehot.best_score_)\n",
    "\n",
    "#Predictions and Evaluation metrics on train set.\n",
    "\n",
    "from sklearn.metrics import precision_score, accuracy_score\n",
    "x_actual, x_pred = y_train, clf1_onehot.predict(x_train)\n",
    "precision_score_RF_onehot_train = precision_score(x_actual, x_pred)\n",
    "accuracy_score_RF_onehot_train = accuracy_score(x_actual, x_pred)\n",
    "print('The precision score of random forest on one hot encoded TRAIN is : ',round(precision_score_RF_onehot_train * 100,2), '%')\n",
    "print('The accuracy score of random forest on one hot encoded TRAIN is : ',round(accuracy_score_RF_onehot_train * 100,2), '%')\n",
    "\n",
    "# Predictions and Evaluation metrics on test set.\n",
    "\n",
    "from sklearn.metrics import precision_score, accuracy_score\n",
    "y_actual, y_pred = y_test, clf1_onehot.predict(x_test)\n",
    "precision_score_RF_onehot_test =  precision_score(y_actual, y_pred)\n",
    "accuracy_score_RF_onehot_test = accuracy_score(y_actual, y_pred)\n",
    "print('The precision score of random forest on one hot encoded TEST is : ',round(precision_score_RF_onehot_test * 100,2), '%')\n",
    "print('The accuracy score of random forest on one hot encoded TEST is : ',round(accuracy_score_RF_onehot_test * 100,2), '%')\n",
    "\n",
    "#Now let's plot the ROC curve and calculate AUC on the test set\n",
    "\n",
    "from sklearn.metrics import auc\n",
    "from sklearn.metrics import roc_curve\n",
    "adsu = clf1_onehot.predict_proba(x_test)[:,1]\n",
    "plt.subplots(figsize=(8,6))\n",
    "fpr, tpr, thresholds = roc_curve(y_test, adsu)\n",
    "plt.plot(fpr, tpr)\n",
    "x = np.linspace(0,1,num=50)\n",
    "plt.plot(x,x,color='lightgrey',linestyle='--',marker='',lw=2,label='random guess')\n",
    "plt.legend(fontsize = 14)\n",
    "plt.xlabel('False positive rate', fontsize = 18)\n",
    "plt.ylabel('True positive rate', fontsize = 18)\n",
    "plt.xlim(0,1)\n",
    "plt.ylim(0,1)\n",
    "plt.show()\n",
    "\n",
    "AUC_RF = auc(fpr,tpr)\n",
    "print('RF AUC on one hot encoded test is: ', round(AUC_RF * 100,2), '%')\n"
   ]
  },
  {
   "cell_type": "markdown",
   "metadata": {},
   "source": [
    "# Reporting the accuracy/precision/AUC of all the data models used for prediction."
   ]
  },
  {
   "cell_type": "code",
   "execution_count": 79,
   "metadata": {},
   "outputs": [
    {
     "name": "stdout",
     "output_type": "stream",
     "text": [
      "The ACCURACY SCORE of various models on train and test are:\n",
      "                                                         \n",
      "The accuracy score of simple decision tree on label encoded data : \t\t\tTRAIN: 86.46 \b% \tTEST: 79.42 \b%\n",
      "The accuracy score of tuned decision tree on label encoded data : \t\t\tTRAIN: 81.74 \b% \tTEST: 81.33 \b%\n",
      "The accuracy score of random forest ensembler on label encoded data: \t\t\tTRAIN: 82.26 \b% \tTEST: 81.63 \b%\n",
      "The accuracy score of simple decision tree on one hot encoded data : \t\t\tTRAIN: 86.46 \b% \tTEST: 79.74 \b%\n",
      "The accuracy score of tuned decision tree on one hot encoded data : \t\t\tTRAIN: 82.04 \b% \tTEST: 81.46 \b%\n",
      "The accuracy score of random forest ensembler on one hot encoded data: \t\t\tTRAIN: 82.41 \b% \tTEST: 81.66 \b%\n"
     ]
    }
   ],
   "source": [
    "print('The ACCURACY SCORE of various models on train and test are:')\n",
    "print('                                                         ')\n",
    "print('The accuracy score of simple decision tree on label encoded data : \\t\\t\\tTRAIN:',round(accuracy_score_DT_train * 100,2), '\\b%','\\tTEST:',round(accuracy_score_DT_test * 100,2), '\\b%')\n",
    "print('The accuracy score of tuned decision tree on label encoded data : \\t\\t\\tTRAIN:',round(accuracy_score_TNDT_train * 100,2), '\\b%','\\tTEST:',round(accuracy_score_TNDT_test * 100,2), '\\b%')\n",
    "print('The accuracy score of random forest ensembler on label encoded data: \\t\\t\\tTRAIN:',round(accuracy_score_RF_train * 100,2), '\\b%','\\tTEST:',round(accuracy_score_RF_test * 100,2), '\\b%')\n",
    "print('The accuracy score of simple decision tree on one hot encoded data : \\t\\t\\tTRAIN:',round(accuracy_score_dtc_onehot_train * 100,2), '\\b%','\\tTEST:',round(accuracy_score_dtc_onehot_test * 100,2), '\\b%')\n",
    "print('The accuracy score of tuned decision tree on one hot encoded data : \\t\\t\\tTRAIN:',round(accuracy_score_TNDT_onehot_train * 100,2), '\\b%','\\tTEST:',round(accuracy_score_TNDT_onehot_test * 100,2), '\\b%')\n",
    "print('The accuracy score of random forest ensembler on one hot encoded data: \\t\\t\\tTRAIN:',round(accuracy_score_RF_onehot_train * 100,2), '\\b%','\\tTEST:',round(accuracy_score_RF_onehot_test * 100,2), '\\b%')\n"
   ]
  },
  {
   "cell_type": "code",
   "execution_count": 81,
   "metadata": {},
   "outputs": [
    {
     "name": "stdout",
     "output_type": "stream",
     "text": [
      "The PRECISION SCORE of various models on train and test are:\n",
      "                                                         \n",
      "The precision score of simple decision tree on label encoded data : \t\t\tTRAIN: 78.26 \b% \tTEST: 57.92 \b%\n",
      "The precision score of tuned decision tree on label encoded data : \t\t\tTRAIN: 66.54 \b% \tTEST: 64.6 \b%\n",
      "The precision score of random forest ensembler on label encoded data: \t\t\tTRAIN: 70.1 \b% \tTEST: 67.44 \b%\n",
      "The precision score of simple decision tree on one hot encoded data : \t\t\tTRAIN: 78.26 \b% \tTEST: 58.84 \b%\n",
      "The precision score of tuned decision tree on one hot encoded data : \t\t\tTRAIN: 68.06 \b% \tTEST: 65.81 \b%\n",
      "The precision score of random forest ensembler on one hot encoded data: \t\tTRAIN: 70.34 \b% \tTEST: 67.32 \b%\n"
     ]
    }
   ],
   "source": [
    "print('The PRECISION SCORE of various models on train and test are:')\n",
    "print('                                                         ')\n",
    "print('The precision score of simple decision tree on label encoded data : \\t\\t\\tTRAIN:',round(precision_score_DT_train * 100,2), '\\b%','\\tTEST:',round(precision_score_DT_test * 100,2), '\\b%')\n",
    "print('The precision score of tuned decision tree on label encoded data : \\t\\t\\tTRAIN:',round(precision_score_TNDT_train * 100,2), '\\b%','\\tTEST:',round(precision_score_TNDT_test * 100,2), '\\b%')\n",
    "print('The precision score of random forest ensembler on label encoded data: \\t\\t\\tTRAIN:',round(precision_score_RF_train * 100,2), '\\b%','\\tTEST:',round(precision_score_RF_test * 100,2), '\\b%')\n",
    "print('The precision score of simple decision tree on one hot encoded data : \\t\\t\\tTRAIN:',round(precision_score_dtc_onehot_train * 100,2), '\\b%','\\tTEST:',round(precision_score_dtc_onehot_test * 100,2), '\\b%')\n",
    "print('The precision score of tuned decision tree on one hot encoded data : \\t\\t\\tTRAIN:',round(precision_score_TNDT_onehot_train * 100,2), '\\b%','\\tTEST:',round(precision_score_TNDT_onehot_test * 100,2), '\\b%')\n",
    "print('The precision score of random forest ensembler on one hot encoded data: \\t\\tTRAIN:',round(precision_score_RF_onehot_train * 100,2), '\\b%','\\tTEST:',round(precision_score_RF_onehot_test * 100,2), '\\b%')\n"
   ]
  },
  {
   "cell_type": "code",
   "execution_count": null,
   "metadata": {},
   "outputs": [],
   "source": [
    "AUC score:\n",
    "    \n",
    "DT AUC on label encoded test is:  78.17 %\n",
    "TNDT AUC on label encoded test is:  85.57 %\n",
    "RF AUC on label encoded test is:  86.36 %\n",
    "DT on one hot encoded test set: AUC is:  79.16 %\n",
    "TNDT AUC on onehot encoded data is:  85.84 %\n",
    "RF AUC on one hot encoded test is:  86.53 %\n"
   ]
  },
  {
   "cell_type": "markdown",
   "metadata": {},
   "source": [
    "# Conclusion: One hot encoding gave better accuracy , Precision and AUC score for our problem statement for decision trees and random forests."
   ]
  }
 ],
 "metadata": {
  "kernelspec": {
   "display_name": "Python 3",
   "language": "python",
   "name": "python3"
  },
  "language_info": {
   "codemirror_mode": {
    "name": "ipython",
    "version": 3
   },
   "file_extension": ".py",
   "mimetype": "text/x-python",
   "name": "python",
   "nbconvert_exporter": "python",
   "pygments_lexer": "ipython3",
   "version": "3.7.6"
  }
 },
 "nbformat": 4,
 "nbformat_minor": 2
}
